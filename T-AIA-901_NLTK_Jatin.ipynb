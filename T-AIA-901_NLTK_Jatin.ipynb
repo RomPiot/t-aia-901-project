{
 "cells": [
  {
   "cell_type": "code",
   "execution_count": 55,
   "metadata": {},
   "outputs": [],
   "source": [
    "# Import the useful libraries here\n",
    "import nltk, os\n",
    "import pandas as pd\n",
    "from nltk.corpus import stopwords\n",
    "\n",
    "# Libraries for the cities detection\n",
    "from geotext import GeoText\n",
    "from geograpy import extraction\n",
    "\n",
    "# Libraries for the dates detection\n",
    "from datefinder import find_dates\n",
    "from dateutil.parser import parse\n",
    "from dateparser.search import search_dates\n",
    "\n",
    "#Download this useful packages of NLTK in order to use few specific functions\n",
    "\n",
    "#nltk.download('stopwords')\n",
    "#nltk.download('averaged_perceptron_tagger')\n",
    "#nltk.download('maxent_ne_chunker')\n",
    "#nltk.download('words')"
   ]
  },
  {
   "cell_type": "code",
   "execution_count": 49,
   "metadata": {},
   "outputs": [
    {
     "name": "stdout",
     "output_type": "stream",
     "text": [
      "['Je souhaite aller à Bordeaux le 10 novembre. ', 'Je cherche des trains pour aller à Perpignan le 14 Novembre à partir de 18h.', \"J'ai besoin d'arriver à Marseille le 25/11/2021 avant 12h.\", 'Je souhaite trouver des trains pour aller à Cannes le 31/11/2021 en passant par Marseille.', 'Je veux réserver aller-retour le même jour entre Lyon et Toulouse le 05 Décembre.', \"J'aimerai partir de Lille pour arriver à Lyon.\", 'En partant de Strasbourg je southerai me rendre à Nancy le 23 Décembre.', 'Sale tarba je veux aller de la Gare de Lyon à la Gare de Perrache.', 'Lyon à Marseille par Grenoble.', 'Grenoble de Lyon.', 'Je souhaiterais me rendre à Carcassonne en partant de Toulouse.', 'Veux aller au Havre en passant par Paris en partant de Lyon.', 'Trouves moi un trajet Marseille Cannes.', 'De Colomiers à Toulouse à Saint-Sulpice.', \"Qu'elles sont les trains en partance de Toulouse le 25 décembre.\", 'Je pars de Lyon pour aller à Marseille.', 'Direction Paris en provenance de Nantes. ', 'Bordeaux Brest.', 'Bodreaux Brest Paris.', 'Départ de Lyon, je fais une escale à Toulouse, et je vais sur Biarritz.', 'Go Metz, je suis à Paris.']\n"
     ]
    }
   ],
   "source": [
    "# Declare the useful variables\n",
    "datasets = {}\n",
    "\n",
    "# Specifying the current working path of the folder\n",
    "path = \"Dataset_Phrases.txt\"\n",
    "\n",
    "# Getting the orders from the dataset.\n",
    "phrases = open(path).read().splitlines();\n",
    "\n",
    "print(phrases)"
   ]
  },
  {
   "cell_type": "code",
   "execution_count": 29,
   "metadata": {},
   "outputs": [
    {
     "name": "stdout",
     "output_type": "stream",
     "text": [
      "['Je', 'souhaite', 'aller', 'à', 'Bordeaux', 'le', '10', 'novembre', '.']\n",
      "['Je', 'cherche', 'des', 'trains', 'pour', 'aller', 'à', 'Perpignan', 'le', '14', 'Novembre', 'à', 'partir', 'de', '18h', '.']\n",
      "[\"J'ai\", 'besoin', \"d'arriver\", 'à', 'Marseille', 'le', '25/11/2021', 'avant', '12h', '.']\n",
      "['Je', 'souhaite', 'trouver', 'des', 'trains', 'pour', 'aller', 'à', 'Cannes', 'le', '31/11/2021', 'en', 'passant', 'par', 'Marseille', '.']\n",
      "['Je', 'veux', 'réserver', 'aller-retour', 'le', 'même', 'jour', 'entre', 'Lyon', 'et', 'Toulouse', 'le', '05', 'Décembre', '.']\n",
      "[\"J'aimerai\", 'partir', 'de', 'Lille', 'pour', 'arriver', 'à', 'Lyon', '.']\n",
      "['En', 'partant', 'de', 'Strasbourg', 'je', 'southerai', 'me', 'rendre', 'à', 'Nancy', 'le', '23', 'Décembre', '.']\n",
      "['Sale', 'tarba', 'je', 'veux', 'aller', 'de', 'la', 'Gare', 'de', 'Lyon', 'à', 'la', 'Gare', 'de', 'Perrache', '.']\n",
      "['Lyon', 'à', 'Marseille', 'par', 'Grenoble', '.']\n",
      "['Grenoble', 'de', 'Lyon', '.']\n",
      "['Je', 'souhaiterais', 'me', 'rendre', 'à', 'Carcassonne', 'en', 'partant', 'de', 'Toulouse', '.']\n",
      "['Veux', 'aller', 'au', 'Havre', 'en', 'passant', 'par', 'Paris', 'en', 'partant', 'de', 'Lyon', '.']\n",
      "['Trouves', 'moi', 'un', 'trajet', 'Marseille', 'Cannes', '.']\n",
      "['De', 'Colomiers', 'à', 'Toulouse', 'à', 'Saint-Sulpice', '.']\n",
      "[\"Qu'elles\", 'sont', 'les', 'trains', 'en', 'partance', 'de', 'Toulouse', 'le', '25', 'décembre', '.']\n",
      "['Je', 'pars', 'de', 'Lyon', 'pour', 'aller', 'à', 'Marseille', '.']\n",
      "['Direction', 'Paris', 'en', 'provenance', 'de', 'Nantes', '.']\n",
      "['Bordeaux', 'Brest', '.']\n",
      "['Bodreaux', 'Brest', 'Paris', '.']\n",
      "['Départ', 'de', 'Lyon', ',', 'je', 'fais', 'une', 'escale', 'à', 'Toulouse', ',', 'et', 'je', 'vais', 'sur', 'Biarritz', '.']\n",
      "['Go', 'Metz', ',', 'je', 'suis', 'à', 'Paris', '.']\n"
     ]
    }
   ],
   "source": [
    "# Useful Variable Declaration\n",
    "tokensList=[]\n",
    "tokensListFiltered = [] \n",
    "\n",
    "# okenize text using NLTK\n",
    "for line in phrases:\n",
    "    tokens = nltk.word_tokenize(line)\n",
    "    tokensList.append(tokens)\n",
    "    ##print(tokens)\n",
    "\n",
    "# Collecting the stopwords\n",
    "stop_words = set(stopwords.words('french'))\n",
    "\n",
    "#print(tokensList)\n",
    "\n",
    "# Filter the date afterwards\n",
    "for line in tokensList:\n",
    "    for token in line:\n",
    "        #print(token)\n",
    "        if token not in stop_words:\n",
    "            tokensListFiltered.append(token)\n",
    "\n",
    "            \n",
    "\n",
    "for word in tokensList:\n",
    "     print(word)"
   ]
  },
  {
   "cell_type": "code",
   "execution_count": 45,
   "metadata": {},
   "outputs": [
    {
     "name": "stdout",
     "output_type": "stream",
     "text": [
      "Je souhaite aller à Bordeaux le 10 novembre.   :  ['Bordeaux']\n",
      "Je cherche des trains pour aller à Perpignan le 14 Novembre à partir de 18h.  :  ['Perpignan']\n",
      "J'ai besoin d'arriver à Marseille le 25/11/2021 avant 12h.  :  ['Marseille']\n",
      "Je souhaite trouver des trains pour aller à Cannes le 31/11/2021 en passant par Marseille.  :  ['Cannes', 'Marseille']\n",
      "Je veux réserver aller-retour le même jour entre Lyon et Toulouse le 05 Décembre.  :  ['Lyon', 'Toulouse']\n",
      "J'aimerai partir de Lille pour arriver à Lyon.  :  ['Lille', 'Lyon']\n",
      "En partant de Strasbourg je southerai me rendre à Nancy le 23 Décembre.  :  ['Strasbourg', 'Nancy']\n",
      "Sale tarba je veux aller de la Gare de Lyon à la Gare de Perrache.  :  []\n",
      "Lyon à Marseille par Grenoble.  :  ['Lyon', 'Marseille', 'Grenoble']\n",
      "Grenoble de Lyon.  :  []\n",
      "Je souhaiterais me rendre à Carcassonne en partant de Toulouse.  :  ['Carcassonne', 'Toulouse']\n",
      "Veux aller au Havre en passant par Paris en partant de Lyon.  :  ['Paris', 'Lyon']\n",
      "Trouves moi un trajet Marseille Cannes.  :  []\n",
      "De Colomiers à Toulouse à Saint-Sulpice.  :  ['Toulouse']\n",
      "Qu'elles sont les trains en partance de Toulouse le 25 décembre.  :  ['Toulouse']\n",
      "Je pars de Lyon pour aller à Marseille.  :  ['Lyon', 'Marseille']\n",
      "Direction Paris en provenance de Nantes.   :  ['Nantes']\n",
      "Bordeaux Brest.  :  []\n",
      "Bodreaux Brest Paris.  :  ['Paris']\n",
      "Départ de Lyon, je fais une escale à Toulouse, et je vais sur Biarritz.  :  ['Toulouse', 'Biarritz']\n",
      "Go Metz, je suis à Paris.  :  ['Paris']\n"
     ]
    }
   ],
   "source": [
    "# Cities extractions from the texts - using GeoText Library\n",
    "\n",
    "# Useful Variable Declaration\n",
    "places = []\n",
    "\n",
    "for line in phrases:\n",
    "    city = GeoText(line, 'FR').cities\n",
    "    places.append(city)\n",
    "    print(line, ' : ', city)\n",
    "    \n",
    "\n",
    "# for city in places:\n",
    "#     print(city)\n",
    "\n"
   ]
  },
  {
   "cell_type": "code",
   "execution_count": 51,
   "metadata": {},
   "outputs": [
    {
     "name": "stdout",
     "output_type": "stream",
     "text": [
      "Je souhaite aller à Bordeaux le 10 novembre.   :  ['Bordeaux']\n",
      "Je cherche des trains pour aller à Perpignan le 14 Novembre à partir de 18h.  :  ['Je', 'Perpignan']\n",
      "J'ai besoin d'arriver à Marseille le 25/11/2021 avant 12h.  :  ['Marseille']\n",
      "Je souhaite trouver des trains pour aller à Cannes le 31/11/2021 en passant par Marseille.  :  ['Cannes', 'Marseille']\n",
      "Je veux réserver aller-retour le même jour entre Lyon et Toulouse le 05 Décembre.  :  ['Je', 'Toulouse']\n",
      "J'aimerai partir de Lille pour arriver à Lyon.  :  ['Lille']\n",
      "En partant de Strasbourg je southerai me rendre à Nancy le 23 Décembre.  :  ['En', 'Strasbourg', 'Nancy']\n",
      "Sale tarba je veux aller de la Gare de Lyon à la Gare de Perrache.  :  ['Sale', 'Gare', 'Lyon', 'Perrache']\n",
      "Lyon à Marseille par Grenoble.  :  ['Lyon', 'Grenoble']\n",
      "Grenoble de Lyon.  :  ['Grenoble']\n",
      "Je souhaiterais me rendre à Carcassonne en partant de Toulouse.  :  ['Je', 'Toulouse']\n",
      "Veux aller au Havre en passant par Paris en partant de Lyon.  :  ['Veux', 'Havre', 'Paris', 'Lyon']\n",
      "Trouves moi un trajet Marseille Cannes.  :  ['Marseille Cannes']\n",
      "De Colomiers à Toulouse à Saint-Sulpice.  :  ['De']\n",
      "Qu'elles sont les trains en partance de Toulouse le 25 décembre.  :  ['Toulouse']\n",
      "Je pars de Lyon pour aller à Marseille.  :  ['Je']\n",
      "Direction Paris en provenance de Nantes.   :  ['Direction', 'Paris', 'Nantes']\n",
      "Bordeaux Brest.  :  ['Bordeaux', 'Brest']\n",
      "Bodreaux Brest Paris.  :  ['Bodreaux', 'Brest Paris']\n",
      "Départ de Lyon, je fais une escale à Toulouse, et je vais sur Biarritz.  :  ['Départ', 'Lyon', 'Toulouse', 'Biarritz']\n",
      "Go Metz, je suis à Paris.  :  ['Paris']\n"
     ]
    }
   ],
   "source": [
    "# Cities extractions from the texts - using Geograpy Library\n",
    "\n",
    "places = []\n",
    "\n",
    "for line in phrases:\n",
    "    city = extraction.Extractor(text=line)\n",
    "    city.find_entities()\n",
    "    places.append(city)\n",
    "    print(line, ' : ', city.places)"
   ]
  },
  {
   "cell_type": "code",
   "execution_count": 47,
   "metadata": {},
   "outputs": [
    {
     "name": "stdout",
     "output_type": "stream",
     "text": [
      "Je souhaite aller à Bordeaux le 10 novembre.   :  [datetime.datetime(2021, 11, 10, 0, 0)]\n",
      "Je cherche des trains pour aller à Perpignan le 14 Novembre à partir de 18h.  :  [datetime.datetime(2021, 11, 14, 0, 0)]\n",
      "J'ai besoin d'arriver à Marseille le 25/11/2021 avant 12h.  :  [datetime.datetime(2021, 11, 25, 0, 0)]\n",
      "Je souhaite trouver des trains pour aller à Cannes le 31/11/2021 en passant par Marseille.  :  []\n",
      "Je veux réserver aller-retour le même jour entre Lyon et Toulouse le 05 Décembre.  :  [datetime.datetime(2021, 11, 5, 0, 0)]\n",
      "J'aimerai partir de Lille pour arriver à Lyon.  :  []\n",
      "En partant de Strasbourg je southerai me rendre à Nancy le 23 Décembre.  :  [datetime.datetime(2021, 11, 23, 0, 0)]\n",
      "Sale tarba je veux aller de la Gare de Lyon à la Gare de Perrache.  :  []\n",
      "Lyon à Marseille par Grenoble.  :  []\n",
      "Grenoble de Lyon.  :  []\n",
      "Je souhaiterais me rendre à Carcassonne en partant de Toulouse.  :  []\n",
      "Veux aller au Havre en passant par Paris en partant de Lyon.  :  []\n",
      "Trouves moi un trajet Marseille Cannes.  :  []\n",
      "De Colomiers à Toulouse à Saint-Sulpice.  :  []\n",
      "Qu'elles sont les trains en partance de Toulouse le 25 décembre.  :  [datetime.datetime(2021, 11, 25, 0, 0)]\n",
      "Je pars de Lyon pour aller à Marseille.  :  []\n",
      "Direction Paris en provenance de Nantes.   :  []\n",
      "Bordeaux Brest.  :  []\n",
      "Bodreaux Brest Paris.  :  []\n",
      "Départ de Lyon, je fais une escale à Toulouse, et je vais sur Biarritz.  :  []\n",
      "Go Metz, je suis à Paris.  :  []\n"
     ]
    }
   ],
   "source": [
    "# Dates extractions from the texts - using DateFinder Library\n",
    "\n",
    "dates = []\n",
    "\n",
    "for line in phrases:\n",
    "    date = list(find_dates(line))\n",
    "    dates.append(date)\n",
    "    print(line, ' : ', date)\n",
    "\n",
    "# for date in dates:\n",
    "#     print(date)"
   ]
  },
  {
   "cell_type": "code",
   "execution_count": 59,
   "metadata": {},
   "outputs": [
    {
     "name": "stdout",
     "output_type": "stream",
     "text": [
      "Je souhaite aller à Bordeaux le 10 novembre.   :  (datetime.datetime(2021, 11, 10, 0, 0), ('Je souhaite aller à Bordeaux le ', 'novembre. '))\n",
      "Je cherche des trains pour aller à Perpignan le 14 Novembre à partir de 18h.  :  (datetime.datetime(2021, 11, 14, 18, 0), ('Je cherche des trains pour aller à Perpignan le ', 'Novembre à partir de ', '.'))\n",
      "J'ai besoin d'arriver à Marseille le 25/11/2021 avant 12h.  :  (datetime.datetime(2021, 11, 25, 12, 0), (\"J'ai besoin d'arriver à Marseille le \", ' avant ', '.'))\n"
     ]
    },
    {
     "ename": "ParserError",
     "evalue": "day is out of range for month: Je souhaite trouver des trains pour aller à Cannes le 31/11/2021 en passant par Marseille.",
     "output_type": "error",
     "traceback": [
      "\u001b[1;31m---------------------------------------------------------------------------\u001b[0m",
      "\u001b[1;31mValueError\u001b[0m                                Traceback (most recent call last)",
      "\u001b[1;32m~\\.conda\\envs\\latest\\lib\\site-packages\\dateutil\\parser\\_parser.py\u001b[0m in \u001b[0;36mparse\u001b[1;34m(self, timestr, default, ignoretz, tzinfos, **kwargs)\u001b[0m\n\u001b[0;32m    648\u001b[0m         \u001b[1;32mtry\u001b[0m\u001b[1;33m:\u001b[0m\u001b[1;33m\u001b[0m\u001b[1;33m\u001b[0m\u001b[0m\n\u001b[1;32m--> 649\u001b[1;33m             \u001b[0mret\u001b[0m \u001b[1;33m=\u001b[0m \u001b[0mself\u001b[0m\u001b[1;33m.\u001b[0m\u001b[0m_build_naive\u001b[0m\u001b[1;33m(\u001b[0m\u001b[0mres\u001b[0m\u001b[1;33m,\u001b[0m \u001b[0mdefault\u001b[0m\u001b[1;33m)\u001b[0m\u001b[1;33m\u001b[0m\u001b[1;33m\u001b[0m\u001b[0m\n\u001b[0m\u001b[0;32m    650\u001b[0m         \u001b[1;32mexcept\u001b[0m \u001b[0mValueError\u001b[0m \u001b[1;32mas\u001b[0m \u001b[0me\u001b[0m\u001b[1;33m:\u001b[0m\u001b[1;33m\u001b[0m\u001b[1;33m\u001b[0m\u001b[0m\n",
      "\u001b[1;32m~\\.conda\\envs\\latest\\lib\\site-packages\\dateutil\\parser\\_parser.py\u001b[0m in \u001b[0;36m_build_naive\u001b[1;34m(self, res, default)\u001b[0m\n\u001b[0;32m   1234\u001b[0m \u001b[1;33m\u001b[0m\u001b[0m\n\u001b[1;32m-> 1235\u001b[1;33m         \u001b[0mnaive\u001b[0m \u001b[1;33m=\u001b[0m \u001b[0mdefault\u001b[0m\u001b[1;33m.\u001b[0m\u001b[0mreplace\u001b[0m\u001b[1;33m(\u001b[0m\u001b[1;33m**\u001b[0m\u001b[0mrepl\u001b[0m\u001b[1;33m)\u001b[0m\u001b[1;33m\u001b[0m\u001b[1;33m\u001b[0m\u001b[0m\n\u001b[0m\u001b[0;32m   1236\u001b[0m \u001b[1;33m\u001b[0m\u001b[0m\n",
      "\u001b[1;31mValueError\u001b[0m: day is out of range for month",
      "\nThe above exception was the direct cause of the following exception:\n",
      "\u001b[1;31mParserError\u001b[0m                               Traceback (most recent call last)",
      "\u001b[1;32m~\\AppData\\Local\\Temp/ipykernel_17136/3749510223.py\u001b[0m in \u001b[0;36m<module>\u001b[1;34m\u001b[0m\n\u001b[0;32m      4\u001b[0m \u001b[1;33m\u001b[0m\u001b[0m\n\u001b[0;32m      5\u001b[0m \u001b[1;32mfor\u001b[0m \u001b[0mline\u001b[0m \u001b[1;32min\u001b[0m \u001b[0mphrases\u001b[0m\u001b[1;33m:\u001b[0m\u001b[1;33m\u001b[0m\u001b[1;33m\u001b[0m\u001b[0m\n\u001b[1;32m----> 6\u001b[1;33m     \u001b[0mdate\u001b[0m \u001b[1;33m=\u001b[0m \u001b[0mparse\u001b[0m\u001b[1;33m(\u001b[0m\u001b[0mline\u001b[0m\u001b[1;33m,\u001b[0m \u001b[0mfuzzy_with_tokens\u001b[0m\u001b[1;33m=\u001b[0m\u001b[1;32mTrue\u001b[0m\u001b[1;33m)\u001b[0m\u001b[1;33m\u001b[0m\u001b[1;33m\u001b[0m\u001b[0m\n\u001b[0m\u001b[0;32m      7\u001b[0m     \u001b[0mdates\u001b[0m\u001b[1;33m.\u001b[0m\u001b[0mappend\u001b[0m\u001b[1;33m(\u001b[0m\u001b[0mdate\u001b[0m\u001b[1;33m)\u001b[0m\u001b[1;33m\u001b[0m\u001b[1;33m\u001b[0m\u001b[0m\n\u001b[0;32m      8\u001b[0m     \u001b[0mprint\u001b[0m\u001b[1;33m(\u001b[0m\u001b[0mline\u001b[0m\u001b[1;33m,\u001b[0m \u001b[1;34m' : '\u001b[0m\u001b[1;33m,\u001b[0m \u001b[0mdate\u001b[0m\u001b[1;33m)\u001b[0m\u001b[1;33m\u001b[0m\u001b[1;33m\u001b[0m\u001b[0m\n",
      "\u001b[1;32m~\\.conda\\envs\\latest\\lib\\site-packages\\dateutil\\parser\\_parser.py\u001b[0m in \u001b[0;36mparse\u001b[1;34m(timestr, parserinfo, **kwargs)\u001b[0m\n\u001b[0;32m   1366\u001b[0m         \u001b[1;32mreturn\u001b[0m \u001b[0mparser\u001b[0m\u001b[1;33m(\u001b[0m\u001b[0mparserinfo\u001b[0m\u001b[1;33m)\u001b[0m\u001b[1;33m.\u001b[0m\u001b[0mparse\u001b[0m\u001b[1;33m(\u001b[0m\u001b[0mtimestr\u001b[0m\u001b[1;33m,\u001b[0m \u001b[1;33m**\u001b[0m\u001b[0mkwargs\u001b[0m\u001b[1;33m)\u001b[0m\u001b[1;33m\u001b[0m\u001b[1;33m\u001b[0m\u001b[0m\n\u001b[0;32m   1367\u001b[0m     \u001b[1;32melse\u001b[0m\u001b[1;33m:\u001b[0m\u001b[1;33m\u001b[0m\u001b[1;33m\u001b[0m\u001b[0m\n\u001b[1;32m-> 1368\u001b[1;33m         \u001b[1;32mreturn\u001b[0m \u001b[0mDEFAULTPARSER\u001b[0m\u001b[1;33m.\u001b[0m\u001b[0mparse\u001b[0m\u001b[1;33m(\u001b[0m\u001b[0mtimestr\u001b[0m\u001b[1;33m,\u001b[0m \u001b[1;33m**\u001b[0m\u001b[0mkwargs\u001b[0m\u001b[1;33m)\u001b[0m\u001b[1;33m\u001b[0m\u001b[1;33m\u001b[0m\u001b[0m\n\u001b[0m\u001b[0;32m   1369\u001b[0m \u001b[1;33m\u001b[0m\u001b[0m\n\u001b[0;32m   1370\u001b[0m \u001b[1;33m\u001b[0m\u001b[0m\n",
      "\u001b[1;32m~\\.conda\\envs\\latest\\lib\\site-packages\\dateutil\\parser\\_parser.py\u001b[0m in \u001b[0;36mparse\u001b[1;34m(self, timestr, default, ignoretz, tzinfos, **kwargs)\u001b[0m\n\u001b[0;32m    649\u001b[0m             \u001b[0mret\u001b[0m \u001b[1;33m=\u001b[0m \u001b[0mself\u001b[0m\u001b[1;33m.\u001b[0m\u001b[0m_build_naive\u001b[0m\u001b[1;33m(\u001b[0m\u001b[0mres\u001b[0m\u001b[1;33m,\u001b[0m \u001b[0mdefault\u001b[0m\u001b[1;33m)\u001b[0m\u001b[1;33m\u001b[0m\u001b[1;33m\u001b[0m\u001b[0m\n\u001b[0;32m    650\u001b[0m         \u001b[1;32mexcept\u001b[0m \u001b[0mValueError\u001b[0m \u001b[1;32mas\u001b[0m \u001b[0me\u001b[0m\u001b[1;33m:\u001b[0m\u001b[1;33m\u001b[0m\u001b[1;33m\u001b[0m\u001b[0m\n\u001b[1;32m--> 651\u001b[1;33m             \u001b[0msix\u001b[0m\u001b[1;33m.\u001b[0m\u001b[0mraise_from\u001b[0m\u001b[1;33m(\u001b[0m\u001b[0mParserError\u001b[0m\u001b[1;33m(\u001b[0m\u001b[0mstr\u001b[0m\u001b[1;33m(\u001b[0m\u001b[0me\u001b[0m\u001b[1;33m)\u001b[0m \u001b[1;33m+\u001b[0m \u001b[1;34m\": %s\"\u001b[0m\u001b[1;33m,\u001b[0m \u001b[0mtimestr\u001b[0m\u001b[1;33m)\u001b[0m\u001b[1;33m,\u001b[0m \u001b[0me\u001b[0m\u001b[1;33m)\u001b[0m\u001b[1;33m\u001b[0m\u001b[1;33m\u001b[0m\u001b[0m\n\u001b[0m\u001b[0;32m    652\u001b[0m \u001b[1;33m\u001b[0m\u001b[0m\n\u001b[0;32m    653\u001b[0m         \u001b[1;32mif\u001b[0m \u001b[1;32mnot\u001b[0m \u001b[0mignoretz\u001b[0m\u001b[1;33m:\u001b[0m\u001b[1;33m\u001b[0m\u001b[1;33m\u001b[0m\u001b[0m\n",
      "\u001b[1;32m~\\.conda\\envs\\latest\\lib\\site-packages\\six.py\u001b[0m in \u001b[0;36mraise_from\u001b[1;34m(value, from_value)\u001b[0m\n",
      "\u001b[1;31mParserError\u001b[0m: day is out of range for month: Je souhaite trouver des trains pour aller à Cannes le 31/11/2021 en passant par Marseille."
     ]
    }
   ],
   "source": [
    "# Dates extractions from the texts - using dateutil Library\n",
    "\n",
    "dates = []\n",
    "\n",
    "for line in phrases:\n",
    "    date = parse(line, fuzzy_with_tokens=True)\n",
    "    dates.append(date)\n",
    "    print(line, ' : ', date)\n",
    "\n",
    "\n",
    "# Putting error because a date is out of range : "
   ]
  },
  {
   "cell_type": "code",
   "execution_count": 60,
   "metadata": {},
   "outputs": [
    {
     "name": "stdout",
     "output_type": "stream",
     "text": [
      "[('Je', datetime.datetime(2021, 11, 25, 0, 0)), ('le 10 novembre', datetime.datetime(2021, 11, 10, 0, 0))]\n",
      "[('Je', datetime.datetime(2021, 11, 25, 0, 0)), ('le 14 Novembre à', datetime.datetime(2021, 11, 14, 0, 0)), ('18h', datetime.datetime(2021, 11, 13, 6, 0))]\n",
      "[('25/11/2021', datetime.datetime(2021, 11, 25, 0, 0))]\n",
      "[('Je', datetime.datetime(2021, 11, 25, 0, 0))]\n",
      "[('Je', datetime.datetime(2021, 11, 25, 0, 0)), ('le 05 Décembre', datetime.datetime(2021, 12, 5, 0, 0))]\n",
      "None\n",
      "[('je', datetime.datetime(2021, 11, 25, 0, 0)), ('me', datetime.datetime(2021, 11, 24, 0, 0)), ('le 23 Décembre', datetime.datetime(2021, 12, 23, 0, 0))]\n",
      "[('je', datetime.datetime(2021, 11, 25, 0, 0))]\n",
      "None\n",
      "None\n",
      "[('Je', datetime.datetime(2021, 11, 25, 0, 0)), ('me', datetime.datetime(2021, 11, 24, 0, 0))]\n",
      "None\n",
      "[('moi', datetime.datetime(2021, 11, 26, 17, 10, 57, 844013))]\n",
      "None\n",
      "[('le 25 décembre', datetime.datetime(2021, 12, 25, 0, 0))]\n",
      "[('Je', datetime.datetime(2021, 11, 25, 0, 0))]\n",
      "None\n",
      "None\n",
      "None\n",
      "[('je', datetime.datetime(2021, 11, 25, 0, 0)), ('et je', datetime.datetime(2021, 11, 25, 0, 0))]\n",
      "[('je', datetime.datetime(2021, 11, 25, 0, 0))]\n"
     ]
    }
   ],
   "source": [
    "# Dates extractions from the texts - using Dateparser Library\n",
    "\n",
    "dates = []\n",
    "\n",
    "for line in phrases:\n",
    "    date = search_dates(line)\n",
    "    dates.append(date)\n",
    "    print(date)\n"
   ]
  },
  {
   "cell_type": "code",
   "execution_count": null,
   "metadata": {},
   "outputs": [],
   "source": []
  }
 ],
 "metadata": {
  "interpreter": {
   "hash": "9568871189a1c7044696903560e1e244a9973f63aff0de6623ac67fcee8a1a84"
  },
  "kernelspec": {
   "display_name": "Python 3.9.7 64-bit ('latest': conda)",
   "name": "python3"
  },
  "language_info": {
   "codemirror_mode": {
    "name": "ipython",
    "version": 3
   },
   "file_extension": ".py",
   "mimetype": "text/x-python",
   "name": "python",
   "nbconvert_exporter": "python",
   "pygments_lexer": "ipython3",
   "version": "3.9.7"
  },
  "orig_nbformat": 4
 },
 "nbformat": 4,
 "nbformat_minor": 2
}
